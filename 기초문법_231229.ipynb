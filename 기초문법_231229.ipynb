{
  "nbformat": 4,
  "nbformat_minor": 0,
  "metadata": {
    "colab": {
      "provenance": [],
      "mount_file_id": "1BxDpqDKf7IstI8c13aHloeHwjJ8l9nVS",
      "authorship_tag": "ABX9TyNT6bRLyHWspee/byx/gvTT",
      "include_colab_link": true
    },
    "kernelspec": {
      "name": "python3",
      "display_name": "Python 3"
    },
    "language_info": {
      "name": "python"
    }
  },
  "cells": [
    {
      "cell_type": "markdown",
      "metadata": {
        "id": "view-in-github",
        "colab_type": "text"
      },
      "source": [
        "<a href=\"https://colab.research.google.com/github/Y0un9Ki/mulcamp34/blob/main/%EA%B8%B0%EC%B4%88%EB%AC%B8%EB%B2%95_231229.ipynb\" target=\"_parent\"><img src=\"https://colab.research.google.com/assets/colab-badge.svg\" alt=\"Open In Colab\"/></a>"
      ]
    },
    {
      "cell_type": "code",
      "execution_count": null,
      "metadata": {
        "id": "jUPX5RB35tt-"
      },
      "outputs": [],
      "source": []
    },
    {
      "cell_type": "markdown",
      "source": [
        "#딕셔너리(Dictionary)\n",
        "- {} 형태로 key와 value값으로 구성되어있다. {key1:value1, key2:value2, ...}"
      ],
      "metadata": {
        "id": "_oL7y8rg7vyi"
      }
    },
    {
      "cell_type": "code",
      "source": [
        "#나라-수도 이름\n",
        "country_capital={\n",
        "    '아르헨티나':'부에노스 아이레스',\n",
        "    '캐나다':'오타와'\n",
        "}\n",
        "print(country_capital)"
      ],
      "metadata": {
        "colab": {
          "base_uri": "https://localhost:8080/"
        },
        "id": "oX7s47U_8azt",
        "outputId": "10b9d712-e90d-4db0-951a-8f822de3fb4d"
      },
      "execution_count": 3,
      "outputs": [
        {
          "output_type": "stream",
          "name": "stdout",
          "text": [
            "{'아르헨티나': '부에노스 아이레스', '캐나다': '오타와'}\n"
          ]
        }
      ]
    },
    {
      "cell_type": "code",
      "source": [
        "data2={'list1':[1,2,3], 'list2':[4,5,6]}\n",
        "data2"
      ],
      "metadata": {
        "colab": {
          "base_uri": "https://localhost:8080/"
        },
        "id": "3dh--kxH_UDq",
        "outputId": "f2c36824-1789-4e61-a84d-2944db7afeca"
      },
      "execution_count": 4,
      "outputs": [
        {
          "output_type": "execute_result",
          "data": {
            "text/plain": [
              "{'list1': [1, 2, 3], 'list2': [4, 5, 6]}"
            ]
          },
          "metadata": {},
          "execution_count": 4
        }
      ]
    },
    {
      "cell_type": "code",
      "source": [
        "data3={'list1':[1,2,3], 'list2':[4,5,6],1:'테스트'}\n",
        "data3"
      ],
      "metadata": {
        "colab": {
          "base_uri": "https://localhost:8080/"
        },
        "id": "Ioch0y2F_haf",
        "outputId": "cec90017-e7d0-4831-dcaa-fd9d59c44177"
      },
      "execution_count": 5,
      "outputs": [
        {
          "output_type": "execute_result",
          "data": {
            "text/plain": [
              "{'list1': [1, 2, 3], 'list2': [4, 5, 6], 1: '테스트'}"
            ]
          },
          "metadata": {},
          "execution_count": 5
        }
      ]
    },
    {
      "cell_type": "markdown",
      "source": [
        "##딕셔너리 다루기"
      ],
      "metadata": {
        "id": "elaPeGhUFy_8"
      }
    },
    {
      "cell_type": "code",
      "source": [
        "country_capital={\n",
        "    '대한민국' : '서울',\n",
        "    '아르헨티나':'부에노스 아이레스',\n",
        "    '캐나다':'오타와'\n",
        "}"
      ],
      "metadata": {
        "id": "yFrIz_2MF1Tx"
      },
      "execution_count": 7,
      "outputs": []
    },
    {
      "cell_type": "code",
      "source": [
        "#내가 좋아하는 도시 이름 (수정)\n",
        "country_capital['대한민국']='부산'\n",
        "country_capital"
      ],
      "metadata": {
        "colab": {
          "base_uri": "https://localhost:8080/"
        },
        "id": "_VBDkvkjGDfK",
        "outputId": "033dd9d1-dd30-4c15-a127-da0b38325fb8"
      },
      "execution_count": 8,
      "outputs": [
        {
          "output_type": "execute_result",
          "data": {
            "text/plain": [
              "{'대한민국': '부산', '아르헨티나': '부에노스 아이레스', '캐나다': '오타와'}"
            ]
          },
          "metadata": {},
          "execution_count": 8
        }
      ]
    },
    {
      "cell_type": "code",
      "source": [
        "# 딕셔너리 삭제 (del)\n",
        "del country_capital['대한민국']\n",
        "country_capital"
      ],
      "metadata": {
        "colab": {
          "base_uri": "https://localhost:8080/"
        },
        "id": "FJiuRE9oGO14",
        "outputId": "0c088318-70ef-4963-fbb4-f26c56985b6e"
      },
      "execution_count": 9,
      "outputs": [
        {
          "output_type": "execute_result",
          "data": {
            "text/plain": [
              "{'아르헨티나': '부에노스 아이레스', '캐나다': '오타와'}"
            ]
          },
          "metadata": {},
          "execution_count": 9
        }
      ]
    },
    {
      "cell_type": "code",
      "source": [
        "country_capital['일본']='도쿄'\n",
        "country_capital"
      ],
      "metadata": {
        "colab": {
          "base_uri": "https://localhost:8080/"
        },
        "id": "o60SZp_5HEqr",
        "outputId": "afcfd0b9-6442-4fff-8b77-4106d928e28a"
      },
      "execution_count": 10,
      "outputs": [
        {
          "output_type": "execute_result",
          "data": {
            "text/plain": [
              "{'아르헨티나': '부에노스 아이레스', '캐나다': '오타와', '일본': '도쿄'}"
            ]
          },
          "metadata": {},
          "execution_count": 10
        }
      ]
    },
    {
      "cell_type": "markdown",
      "source": [
        "# 딕셔너리 메서드"
      ],
      "metadata": {
        "id": "Kmbpn5VXHJ-7"
      }
    },
    {
      "cell_type": "code",
      "source": [
        "country_capital.keys()\n",
        "print(type(country_capital.keys()))"
      ],
      "metadata": {
        "colab": {
          "base_uri": "https://localhost:8080/"
        },
        "id": "JXcHTunnHHqT",
        "outputId": "141bfe77-01dd-4e9b-d539-dcba4b9abc94"
      },
      "execution_count": 14,
      "outputs": [
        {
          "output_type": "stream",
          "name": "stdout",
          "text": [
            "<class 'dict_keys'>\n"
          ]
        }
      ]
    },
    {
      "cell_type": "code",
      "source": [
        "country_capital.items()"
      ],
      "metadata": {
        "colab": {
          "base_uri": "https://localhost:8080/"
        },
        "id": "52j7OkA-ISIa",
        "outputId": "ca9856a9-0237-452c-c9a7-b17888d38e47"
      },
      "execution_count": 12,
      "outputs": [
        {
          "output_type": "execute_result",
          "data": {
            "text/plain": [
              "dict_items([('아르헨티나', '부에노스 아이레스'), ('캐나다', '오타와'), ('일본', '도쿄')])"
            ]
          },
          "metadata": {},
          "execution_count": 12
        }
      ]
    },
    {
      "cell_type": "code",
      "source": [
        "#딕셔너리를 리스트로 변환\n",
        "print(list(country_capital.keys()))"
      ],
      "metadata": {
        "colab": {
          "base_uri": "https://localhost:8080/"
        },
        "id": "UWRaLHyyI8CI",
        "outputId": "aa669679-eb54-46b9-92ad-b846518a4aa9"
      },
      "execution_count": 15,
      "outputs": [
        {
          "output_type": "stream",
          "name": "stdout",
          "text": [
            "['아르헨티나', '캐나다', '일본']\n"
          ]
        }
      ]
    },
    {
      "cell_type": "code",
      "source": [
        "score=int(input('점수를 입력해주세요!'))\n",
        "if score>=90:\n",
        "  print('A입니다 참잘했어요')\n",
        "elif score>=80:\n",
        "  print('B입니다. 조금만 더 노력해봐요')\n",
        "else:\n",
        "  print('조금만 더 노력해서 재시험을 봐요!')"
      ],
      "metadata": {
        "id": "_tzj02QKPI5L"
      },
      "execution_count": null,
      "outputs": []
    },
    {
      "cell_type": "code",
      "source": [
        "for i in country_capital.values():\n",
        "  print(i)"
      ],
      "metadata": {
        "colab": {
          "base_uri": "https://localhost:8080/"
        },
        "id": "52NAbTlRdJr4",
        "outputId": "20c5bcd8-2f09-4c3c-dcca-bdf06d55597d"
      },
      "execution_count": 17,
      "outputs": [
        {
          "output_type": "stream",
          "name": "stdout",
          "text": [
            "부에노스 아이레스\n",
            "오타와\n",
            "도쿄\n"
          ]
        }
      ]
    },
    {
      "cell_type": "code",
      "source": [
        "for i in range(2,10):\n",
        "  for j in range(1,10):\n",
        "    result=i*j\n",
        "    print(result, end=\" \")\n",
        "  print(' ')"
      ],
      "metadata": {
        "colab": {
          "base_uri": "https://localhost:8080/"
        },
        "id": "WNsUEyM70xoG",
        "outputId": "d9c9092e-73a5-4d15-e652-6bad710cd3cf"
      },
      "execution_count": 27,
      "outputs": [
        {
          "output_type": "stream",
          "name": "stdout",
          "text": [
            "2 4 6 8 10 12 14 16 18  \n",
            "3 6 9 12 15 18 21 24 27  \n",
            "4 8 12 16 20 24 28 32 36  \n",
            "5 10 15 20 25 30 35 40 45  \n",
            "6 12 18 24 30 36 42 48 54  \n",
            "7 14 21 28 35 42 49 56 63  \n",
            "8 16 24 32 40 48 56 64 72  \n",
            "9 18 27 36 45 54 63 72 81  \n"
          ]
        }
      ]
    },
    {
      "cell_type": "code",
      "source": [
        "i=1\n",
        "n=3\n",
        "\n",
        "while i<=n:\n",
        "  print(f'현재 {i}')\n",
        "\n",
        "  i+=1"
      ],
      "metadata": {
        "colab": {
          "base_uri": "https://localhost:8080/"
        },
        "id": "C_7Iha_W9T9c",
        "outputId": "f5d5d390-2a76-41e0-a935-7b89e8e7bf53"
      },
      "execution_count": 28,
      "outputs": [
        {
          "output_type": "stream",
          "name": "stdout",
          "text": [
            "현재 1\n",
            "현재 2\n",
            "현재 3\n"
          ]
        }
      ]
    },
    {
      "cell_type": "code",
      "source": [],
      "metadata": {
        "id": "K4LWQJc1FPFi"
      },
      "execution_count": null,
      "outputs": []
    },
    {
      "cell_type": "markdown",
      "source": [
        "# 파이썬 문서화 (Docstring)\n",
        "- 코딩을 한다. 프로그래밍을 한다.\n",
        "- 누군가에게 관련 지식을 전달하는 것과 동일\n",
        "+ 혼자 코딩하고, 혼자만 알 수 있는 언어로 코딩을 했다 ==> 협업 불가능\n",
        "  + 취업, 퇴사, 이직 ==> 업무 인수인계를 해야 함\n",
        "  + 코딩한 것에 문서화를 하지 못하면, 업무 인수인계 자체가 불가능\n",
        "- 프로젝트 진행\n",
        "  + 3주 / 4주 ==> 마지막주에는\n",
        "    - 2-3명, PPT 보고서 작성\n",
        "    - 남은 인원, Docstring을 사용해서, 문서화\n",
        "  + help() 명령어를 사용해서 불러오기 할 수 있음 (예. read_csv() 문서처럼 출력이 가능)"
      ],
      "metadata": {
        "id": "iEXw53F4NIYn"
      }
    },
    {
      "cell_type": "code",
      "source": [
        "help(print)"
      ],
      "metadata": {
        "colab": {
          "base_uri": "https://localhost:8080/"
        },
        "id": "KcZFZeY6RFyE",
        "outputId": "56e57b88-6ea1-4b14-c152-bc8c4b369e61"
      },
      "execution_count": 29,
      "outputs": [
        {
          "output_type": "stream",
          "name": "stdout",
          "text": [
            "Help on built-in function print in module builtins:\n",
            "\n",
            "print(...)\n",
            "    print(value, ..., sep=' ', end='\\n', file=sys.stdout, flush=False)\n",
            "    \n",
            "    Prints the values to a stream, or to sys.stdout by default.\n",
            "    Optional keyword arguments:\n",
            "    file:  a file-like object (stream); defaults to the current sys.stdout.\n",
            "    sep:   string inserted between values, default a space.\n",
            "    end:   string appended after the last value, default a newline.\n",
            "    flush: whether to forcibly flush the stream.\n",
            "\n"
          ]
        }
      ]
    },
    {
      "cell_type": "code",
      "source": [
        "def my_power(n):\n",
        "  '''숫자 n을 입력하면 n의 거듭제곱으로 반환'''\n",
        "  result=n**2\n",
        "  return result"
      ],
      "metadata": {
        "id": "9jWUfnrlRH17"
      },
      "execution_count": 30,
      "outputs": []
    },
    {
      "cell_type": "code",
      "source": [
        "my_power(2)"
      ],
      "metadata": {
        "colab": {
          "base_uri": "https://localhost:8080/"
        },
        "id": "XF53Isq-RjmG",
        "outputId": "9eb717c5-1d10-4193-da05-ee14b20c5009"
      },
      "execution_count": 31,
      "outputs": [
        {
          "output_type": "execute_result",
          "data": {
            "text/plain": [
              "4"
            ]
          },
          "metadata": {},
          "execution_count": 31
        }
      ]
    },
    {
      "cell_type": "code",
      "source": [
        "print(my_power.__doc__)"
      ],
      "metadata": {
        "colab": {
          "base_uri": "https://localhost:8080/"
        },
        "id": "WwUYQjSKR0Z9",
        "outputId": "328a085e-b789-4ffa-fe7e-3cf2af370d7c"
      },
      "execution_count": 32,
      "outputs": [
        {
          "output_type": "stream",
          "name": "stdout",
          "text": [
            "숫자 n을 입력하면 n의 거듭제곱으로 반환\n"
          ]
        }
      ]
    },
    {
      "cell_type": "code",
      "source": [
        "print(print.__doc__)"
      ],
      "metadata": {
        "colab": {
          "base_uri": "https://localhost:8080/"
        },
        "id": "mPfepDMUR5GU",
        "outputId": "06165824-49a8-4693-974f-1906f057b94f"
      },
      "execution_count": 33,
      "outputs": [
        {
          "output_type": "stream",
          "name": "stdout",
          "text": [
            "print(value, ..., sep=' ', end='\\n', file=sys.stdout, flush=False)\n",
            "\n",
            "Prints the values to a stream, or to sys.stdout by default.\n",
            "Optional keyword arguments:\n",
            "file:  a file-like object (stream); defaults to the current sys.stdout.\n",
            "sep:   string inserted between values, default a space.\n",
            "end:   string appended after the last value, default a newline.\n",
            "flush: whether to forcibly flush the stream.\n"
          ]
        }
      ]
    },
    {
      "cell_type": "code",
      "source": [
        "def read_csv(sep, header):\n",
        "  '''\n",
        "  Returns the sum of ~~~,\n",
        "\n",
        "    Parameters:\n",
        "      sep (str) : Character or regex pattern to treat as the delimiter.\n",
        "      header(int) : Row number(s) containing column labels\n",
        "\n",
        "    Returns:\n",
        "      c(int) : sum of ~~\n",
        "\n",
        "\n",
        "  '''\n",
        "  c = sep+header\n",
        "  return c"
      ],
      "metadata": {
        "id": "5jRRzSSNSQhT"
      },
      "execution_count": 36,
      "outputs": []
    },
    {
      "cell_type": "code",
      "source": [
        "print(read_csv.__doc__)"
      ],
      "metadata": {
        "colab": {
          "base_uri": "https://localhost:8080/"
        },
        "id": "vDhnLhPTTQIl",
        "outputId": "8ecbeede-81ad-43f9-ce02-b7a0a35fd144"
      },
      "execution_count": 37,
      "outputs": [
        {
          "output_type": "stream",
          "name": "stdout",
          "text": [
            "\n",
            "  Returns the sum of ~~~,\n",
            "\n",
            "    Parameters:\n",
            "      sep (str) : Character or regex pattern to treat as the delimiter.\n",
            "      header(int) : Row number(s) containing column labels\n",
            "\n",
            "    Returns:\n",
            "      c(int) : sum of ~~\n",
            "\n",
            "\n",
            "  \n"
          ]
        }
      ]
    },
    {
      "cell_type": "markdown",
      "source": [
        "# 클래스 상속\n",
        "- 부모>자식\n",
        "- 대분류>중분류>소분류\n"
      ],
      "metadata": {
        "id": "lCBMrSn3YQVp"
      }
    },
    {
      "cell_type": "code",
      "source": [
        "class Animal:\n",
        "  #Attribute 정의(=클래스 변수)\n",
        "  name = \"\"\n",
        "\n",
        "  # 공통함수\n",
        "  def eat(self):\n",
        "    print(\"나는 먹을 수 있음\")\n",
        "\n",
        "class Dog(Animal): #클래스 상속을 했다. 동물 ==> 강아지로 기본 기능을 제공함\n",
        "                   #  class Animal에서 상속을 받았다.\n",
        "\n",
        "  #새로운 메서드\n",
        "  def dance(self):\n",
        "    print(f\"{self.name} 강아지가 춤을 춘다\")\n"
      ],
      "metadata": {
        "id": "DWUEhn5UZZHY"
      },
      "execution_count": 38,
      "outputs": []
    },
    {
      "cell_type": "code",
      "source": [
        "#객체 생성\n",
        "a=Dog()\n",
        "a.name=\"코코\"\n",
        "a.eat()"
      ],
      "metadata": {
        "colab": {
          "base_uri": "https://localhost:8080/"
        },
        "id": "pW4FxP2Madii",
        "outputId": "0cb8c5dc-9d62-4cc1-a66e-1eda000bc8f2"
      },
      "execution_count": 40,
      "outputs": [
        {
          "output_type": "stream",
          "name": "stdout",
          "text": [
            "나는 먹을 수 있음\n"
          ]
        }
      ]
    },
    {
      "cell_type": "code",
      "source": [
        "b = Animal()\n",
        "b.name = \"토리\"\n",
        "b.eat()\n",
        "# b.dance() ==> Animal에는 dance라는 메서드가 없기에 되지 않는다."
      ],
      "metadata": {
        "colab": {
          "base_uri": "https://localhost:8080/"
        },
        "id": "aR4L3PwObn1u",
        "outputId": "477df382-1f2c-49ad-c14f-8be862ac79f0"
      },
      "execution_count": 43,
      "outputs": [
        {
          "output_type": "stream",
          "name": "stdout",
          "text": [
            "나는 먹을 수 있음\n"
          ]
        }
      ]
    },
    {
      "cell_type": "markdown",
      "source": [
        "### 클래스 Docstring"
      ],
      "metadata": {
        "id": "HK6QrHWUdSBr"
      }
    },
    {
      "cell_type": "code",
      "source": [
        "class Person:\n",
        "  '''\n",
        "  자기 소개하는 Person 클래스\n",
        "\n",
        "  Attributes\n",
        "  ----------\n",
        "  name : str\n",
        "    사람의 이름을 의미\n",
        "  age : int\n",
        "    사람의 나이를 의미\n",
        "  grade : int\n",
        "    사람의 현재 학년을 의미\n",
        "\n",
        "  Method\n",
        "  ----------\n",
        "  info(comment=\" \") : str\n",
        "    그 사람의 개인적인 사항을 적음\n",
        "\n",
        "  '''\n",
        "  def __init__(self, name, age, grade):\n",
        "    self.name = name\n",
        "    self.age = age\n",
        "    self.grade = grade\n",
        "\n",
        "  def info(self, comment = \"\"):\n",
        "    print(f'내 이름은 {self.name}. 내 나이는 {self.age}. 현재 학년은 {self.grade}. {comment}')"
      ],
      "metadata": {
        "id": "oLk9gYoZdMi3"
      },
      "execution_count": null,
      "outputs": []
    }
  ]
}