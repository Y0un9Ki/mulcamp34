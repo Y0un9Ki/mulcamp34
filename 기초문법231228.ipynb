{
  "nbformat": 4,
  "nbformat_minor": 0,
  "metadata": {
    "colab": {
      "provenance": [],
      "mount_file_id": "1xVS--TYQ-VdI-glfXTm12jWp9FP8J8Hp",
      "authorship_tag": "ABX9TyNNAJipo4R3E3ZRONRC4ClD",
      "include_colab_link": true
    },
    "kernelspec": {
      "name": "python3",
      "display_name": "Python 3"
    },
    "language_info": {
      "name": "python"
    }
  },
  "cells": [
    {
      "cell_type": "markdown",
      "metadata": {
        "id": "view-in-github",
        "colab_type": "text"
      },
      "source": [
        "<a href=\"https://colab.research.google.com/github/Y0un9Ki/mulcamp34/blob/main/%EA%B8%B0%EC%B4%88%EB%AC%B8%EB%B2%95231228.ipynb\" target=\"_parent\"><img src=\"https://colab.research.google.com/assets/colab-badge.svg\" alt=\"Open In Colab\"/></a>"
      ]
    },
    {
      "cell_type": "markdown",
      "source": [
        "#문자열 함수\n",
        "\n",
        "\n",
        "\n",
        "1.   split() : 문자열 분리\n",
        "2.   strip() : 필요없는 문자열 삭제\n",
        "\n"
      ],
      "metadata": {
        "id": "-vuVNoEh2qXo"
      }
    },
    {
      "cell_type": "markdown",
      "source": [
        "##split() : 문자열 분리\n"
      ],
      "metadata": {
        "id": "fbdm7TSx3nsa"
      }
    },
    {
      "cell_type": "code",
      "execution_count": null,
      "metadata": {
        "colab": {
          "base_uri": "https://localhost:8080/"
        },
        "id": "qd4aPIHQxuV1",
        "outputId": "d5db9d3a-6569-4e08-9cf0-ef5fd9459d70"
      },
      "outputs": [
        {
          "output_type": "stream",
          "name": "stdout",
          "text": [
            "['+82', '01', '2345', '6789']\n"
          ]
        }
      ],
      "source": [
        "phone_number = \"+82-01-2345-6789\"\n",
        "phone_list=phone_number.split('-')\n",
        "print(phone_list)"
      ]
    },
    {
      "cell_type": "code",
      "source": [
        "phone_number = \"+82-01-2345-6789\"\n",
        "phone_number.split('-',maxsplit=2)"
      ],
      "metadata": {
        "colab": {
          "base_uri": "https://localhost:8080/"
        },
        "id": "aRWaMIV72gRp",
        "outputId": "22f66131-6258-4937-ef3e-bce2963fbfc4"
      },
      "execution_count": null,
      "outputs": [
        {
          "output_type": "execute_result",
          "data": {
            "text/plain": [
              "['+82', '01', '2345-6789']"
            ]
          },
          "metadata": {},
          "execution_count": 5
        }
      ]
    },
    {
      "cell_type": "code",
      "source": [
        "tempText = 'aaaaabbPythonbbaaaaaa'\n",
        "print(tempText.split('ba'))\n",
        "tempText1 = 'hello world fun'\n",
        "print(tempText1.split(' '))"
      ],
      "metadata": {
        "colab": {
          "base_uri": "https://localhost:8080/"
        },
        "id": "u2NLNKwI8-IC",
        "outputId": "67792b41-8895-409e-a1e5-9b66330ab4ec"
      },
      "execution_count": null,
      "outputs": [
        {
          "output_type": "stream",
          "name": "stdout",
          "text": [
            "['aaaaabbPythonb', 'aaaaa']\n",
            "['hello', 'world', 'fun']\n"
          ]
        }
      ]
    },
    {
      "cell_type": "markdown",
      "source": [
        "##strip() : 필요없는 문자열 삭제\n",
        "- 문자열 양쪽의 공백을 지우는 메소드"
      ],
      "metadata": {
        "id": "a0jdjF1r3tX5"
      }
    },
    {
      "cell_type": "code",
      "source": [
        "tempPython=\"hello world! \"\n",
        "print(tempPython.strip(\" \")) #문자열 양쪽의 공백을 지운다."
      ],
      "metadata": {
        "colab": {
          "base_uri": "https://localhost:8080/"
        },
        "id": "w3nsiJoq34Mo",
        "outputId": "59d4c651-1216-43a4-dace-4f589727078a"
      },
      "execution_count": null,
      "outputs": [
        {
          "output_type": "stream",
          "name": "stdout",
          "text": [
            "hello world!\n"
          ]
        }
      ]
    },
    {
      "cell_type": "code",
      "source": [
        "tempText = 'aaaaabbPythonbbaaaaaa'\n",
        "print(tempText.strip('ab'))"
      ],
      "metadata": {
        "colab": {
          "base_uri": "https://localhost:8080/"
        },
        "id": "xyd1rxW78mzL",
        "outputId": "ae4e7b61-3811-4d00-b88a-8e65ff12ca1d"
      },
      "execution_count": null,
      "outputs": [
        {
          "output_type": "stream",
          "name": "stdout",
          "text": [
            "Python\n"
          ]
        }
      ]
    },
    {
      "cell_type": "code",
      "source": [
        "tempText = '\\n Python \\n\\n'\n",
        "print(tempText.strip(' \\n')) #공백후에 \" \\n\"을 하면 tempText에 들어있는 Python에 공백과 \\n을 모두 지워준다."
      ],
      "metadata": {
        "colab": {
          "base_uri": "https://localhost:8080/"
        },
        "id": "wfHm9V389pXN",
        "outputId": "a2fd24e0-8c91-4616-aa46-f543379bd7f6"
      },
      "execution_count": null,
      "outputs": [
        {
          "output_type": "stream",
          "name": "stdout",
          "text": [
            "Python\n"
          ]
        }
      ]
    },
    {
      "cell_type": "markdown",
      "source": [
        "## join() : 문자열 연결\n",
        "- 더하기 연산자(+)로 두 문자열을 연결 가능"
      ],
      "metadata": {
        "id": "4uI4J3iR-K0G"
      }
    },
    {
      "cell_type": "code",
      "source": [
        "name1 = '철수'\n",
        "name2 = '영미'\n",
        "\n",
        "hello = '님, 주소와 전화 번호를 입력해 주세요'\n",
        "print(name1+hello)\n",
        "print(name2+hello)"
      ],
      "metadata": {
        "colab": {
          "base_uri": "https://localhost:8080/"
        },
        "id": "kr8ryUm8-KId",
        "outputId": "1bca8f78-430d-4886-964c-d848ce1a1d49"
      },
      "execution_count": null,
      "outputs": [
        {
          "output_type": "stream",
          "name": "stdout",
          "text": [
            "철수님, 주소와 전화 번호를 입력해 주세요\n",
            "영미님, 주소와 전화 번호를 입력해 주세요\n"
          ]
        }
      ]
    },
    {
      "cell_type": "code",
      "source": [
        "address_list = ['서울시', '서초구', '반포대로', '201(반포동)']\n",
        "\n",
        "#리스트의 가 값을 모두 연결해서 하나의 텍스트로\n",
        "a=','\n",
        "a.join(address_list)"
      ],
      "metadata": {
        "colab": {
          "base_uri": "https://localhost:8080/",
          "height": 35
        },
        "id": "aPD5-CIZ_HMq",
        "outputId": "d3aa50c2-e138-42d1-91f4-603f20d66635"
      },
      "execution_count": null,
      "outputs": [
        {
          "output_type": "execute_result",
          "data": {
            "text/plain": [
              "'서울시,서초구,반포대로,201(반포동)'"
            ],
            "application/vnd.google.colaboratory.intrinsic+json": {
              "type": "string"
            }
          },
          "metadata": {},
          "execution_count": 24
        }
      ]
    },
    {
      "cell_type": "markdown",
      "source": [
        "## find() : 문자열 찾기\n",
        "- 문자열의 위치 값을 반환 즉 리턴값이 있다."
      ],
      "metadata": {
        "id": "WvM7SgWFACjf"
      }
    },
    {
      "cell_type": "code",
      "source": [
        "str_f = 'Python code.'\n",
        "print('찾는 문자열의 위치:' , str_f.find('code'))\n",
        "print('찾는 문자열의 위치:' , str_f.find('Java')) # find 메소드는 값이 없을 때 error를 띄우지 않고 -1을 띄운다. 하지만 index 메소드는 error를 띄워준다."
      ],
      "metadata": {
        "colab": {
          "base_uri": "https://localhost:8080/"
        },
        "id": "FOq5Qz9LA0tk",
        "outputId": "4dfc0340-de85-4360-9615-c4529d95c5be"
      },
      "execution_count": null,
      "outputs": [
        {
          "output_type": "stream",
          "name": "stdout",
          "text": [
            "찾는 문자열의 위치: 7\n",
            "찾는 문자열의 위치: -1\n"
          ]
        }
      ]
    },
    {
      "cell_type": "markdown",
      "source": [
        "## count() : 찾고자 하는 문자열의 횟수 반환\n",
        "- 만약, 찾을 문자열이 없으면 0으로 반환"
      ],
      "metadata": {
        "id": "7ok06SJaDTxN"
      }
    },
    {
      "cell_type": "code",
      "source": [
        "str_c = \"Python is powerful. Python is easy to learn. Python is open\"\n",
        "print(\"Python의 갯수는?\",str_c.count('Python'))\n",
        "print(\"Python의 갯수는?\",str_c.count('powerful'))\n",
        "print(\"Python의 갯수는?\",str_c.count('Java'))"
      ],
      "metadata": {
        "colab": {
          "base_uri": "https://localhost:8080/"
        },
        "id": "H5AVN2syDbpL",
        "outputId": "336e55d9-0d71-4a92-8db9-fef9bbf137cb"
      },
      "execution_count": null,
      "outputs": [
        {
          "output_type": "stream",
          "name": "stdout",
          "text": [
            "Python의 갯수는? 3\n",
            "Python의 갯수는? 1\n",
            "Python의 갯수는? 0\n"
          ]
        }
      ]
    },
    {
      "cell_type": "markdown",
      "source": [
        "## startswith, endswith\n",
        "- 각문자열이 지정된 문자로 시작하는지 또는 끝나는지 체크(검사)할 때 사용"
      ],
      "metadata": {
        "id": "Ryv_cjrnEIwn"
      }
    },
    {
      "cell_type": "code",
      "source": [
        "str_c = \"Python is powerful. Python is easy to learn. Python is open.\"\n",
        "print(\"Python으로 시작?\",str_c.startswith('Python'))\n",
        "print(\"Python으로 시작?\",str_c.startswith('is'))\n",
        "print(\"Python으로 끝나?\",str_c.endswith('.'))\n",
        "print(\"Python으로 끝나?\",str_c.endswith('!'))"
      ],
      "metadata": {
        "colab": {
          "base_uri": "https://localhost:8080/"
        },
        "id": "fP6BQQyUEUut",
        "outputId": "bb498ad9-1199-4be1-c29f-3f55e849cab0"
      },
      "execution_count": null,
      "outputs": [
        {
          "output_type": "stream",
          "name": "stdout",
          "text": [
            "Python으로 시작? True\n",
            "Python으로 시작? False\n",
            "Python으로 끝나? True\n",
            "Python으로 끝나? False\n"
          ]
        }
      ]
    },
    {
      "cell_type": "markdown",
      "source": [
        "##replace() : 문자열 바꾸기\n",
        "- 지정한 문자열을 찾아서 바꾸는 메소드"
      ],
      "metadata": {
        "id": "_9rjx-ZmFFMi"
      }
    },
    {
      "cell_type": "code",
      "source": [
        "# str_a = 'Python is fast. Python is friendly. Python is open.'"
      ],
      "metadata": {
        "id": "-wLMjBAsF2Q2"
      },
      "execution_count": null,
      "outputs": []
    },
    {
      "cell_type": "code",
      "source": [
        "str_a = 'Python is fast. Python is friendly. Python is open.'\n",
        "str_a.replace('Python','b')\n",
        "print(str_a)"
      ],
      "metadata": {
        "colab": {
          "base_uri": "https://localhost:8080/"
        },
        "id": "4tjjXPvFFEyI",
        "outputId": "f1898b24-fec7-4589-b2b2-bd1365d1c68b"
      },
      "execution_count": null,
      "outputs": [
        {
          "output_type": "stream",
          "name": "stdout",
          "text": [
            "Python is fast. Python is friendly. Python is open.\n"
          ]
        }
      ]
    },
    {
      "cell_type": "markdown",
      "source": [
        "#리스트 함수"
      ],
      "metadata": {
        "id": "T0OpDuv8N7mN"
      }
    },
    {
      "cell_type": "markdown",
      "source": [
        "##append()\n",
        "-리스트에서 항목 하나를 맨 마지막에 추가"
      ],
      "metadata": {
        "id": "SMgqyXTMN_3e"
      }
    },
    {
      "cell_type": "code",
      "source": [
        "myFriends = ['James', 'Robert', 'Lisa', 'Mary']\n",
        "myFriends.append('Thomas')\n",
        "print(myFriends)"
      ],
      "metadata": {
        "colab": {
          "base_uri": "https://localhost:8080/"
        },
        "id": "y8RnlVFJOFrZ",
        "outputId": "e24e02c2-9e18-4ae0-9ad6-84ffd557dfbc"
      },
      "execution_count": null,
      "outputs": [
        {
          "output_type": "stream",
          "name": "stdout",
          "text": [
            "['James', 'Robert', 'Lisa', 'Mary', 'Thomas']\n"
          ]
        }
      ]
    },
    {
      "cell_type": "markdown",
      "source": [
        "##extend()"
      ],
      "metadata": {
        "id": "WlmX_b7nPS9a"
      }
    },
    {
      "cell_type": "code",
      "source": [
        "myFriends = ['James', 'Robert', 'Lisa', 'Mary']\n",
        "myFriends.append('Thomas')\n",
        "\n",
        "# newFriends = ['A', 'B', 'C']\n",
        "# myFriends.append(newFriends) #append와 extend의 차이점\n",
        "# print(myFriends)\n",
        "myFriends.extend(newFriends)\n",
        "print(myFriends) #append는 새로들어오는 값을 그대로 올려주지만 리스트로 들어왔을때도 extend는 리스트에 그대로 확장해서 값을 넣어준다."
      ],
      "metadata": {
        "colab": {
          "base_uri": "https://localhost:8080/"
        },
        "id": "_gD8xFHcPVUZ",
        "outputId": "5248a233-d6cf-4319-c10e-a3d196774ae1"
      },
      "execution_count": null,
      "outputs": [
        {
          "output_type": "stream",
          "name": "stdout",
          "text": [
            "['James', 'Robert', 'Lisa', 'Mary', 'Thomas', 'A', 'B', 'C']\n"
          ]
        }
      ]
    },
    {
      "cell_type": "markdown",
      "source": [
        "#클래스"
      ],
      "metadata": {
        "id": "NIj6arYXqLUF"
      }
    },
    {
      "cell_type": "markdown",
      "source": [
        "##함수"
      ],
      "metadata": {
        "id": "rGFeBRfXqN3D"
      }
    },
    {
      "cell_type": "code",
      "source": [
        "# 함수의 구조\n",
        "#매개변수,인자\n",
        "\n",
        "def 함수명([인자1,인자2,...인자n]):\n",
        "  #코드 블록\n",
        "  return 반환값"
      ],
      "metadata": {
        "id": "O7svm0WCqRYK"
      },
      "execution_count": null,
      "outputs": []
    },
    {
      "cell_type": "code",
      "source": [
        "def mySum(a,b):\n",
        "  result=a+b\n",
        "  return result\n",
        "\n",
        "\n",
        "a=1\n",
        "b=1\n",
        "print(mySum(a,b))\n"
      ],
      "metadata": {
        "colab": {
          "base_uri": "https://localhost:8080/"
        },
        "id": "wJ0gncqEqfow",
        "outputId": "fb1dd0f6-ba9d-447e-a68a-6f2fa0999782"
      },
      "execution_count": 14,
      "outputs": [
        {
          "output_type": "stream",
          "name": "stdout",
          "text": [
            "2\n"
          ]
        }
      ]
    },
    {
      "cell_type": "code",
      "source": [
        "def mySubtract(a,b=0):\n",
        "  result=a-b\n",
        "  return result\n",
        "\n",
        "M=1\n",
        "result=mySubtract(M)\n",
        "print(result)"
      ],
      "metadata": {
        "colab": {
          "base_uri": "https://localhost:8080/"
        },
        "id": "dgYxdoGkrrad",
        "outputId": "fde3f69c-517a-4d89-9fea-3558e40247be"
      },
      "execution_count": 15,
      "outputs": [
        {
          "output_type": "stream",
          "name": "stdout",
          "text": [
            "1\n"
          ]
        }
      ]
    },
    {
      "cell_type": "code",
      "source": [
        "def my_func():\n",
        "  print(\"My first function\")\n",
        "  print(\"This is a function!\")"
      ],
      "metadata": {
        "id": "E23tVaaZ0RrS"
      },
      "execution_count": 16,
      "outputs": []
    },
    {
      "cell_type": "code",
      "source": [
        "my_func()"
      ],
      "metadata": {
        "colab": {
          "base_uri": "https://localhost:8080/"
        },
        "id": "tQWXwFkx0TcQ",
        "outputId": "0e1a6137-96b4-4def-ac6c-54818befd761"
      },
      "execution_count": 17,
      "outputs": [
        {
          "output_type": "stream",
          "name": "stdout",
          "text": [
            "My first function\n",
            "This is a function!\n"
          ]
        }
      ]
    },
    {
      "cell_type": "code",
      "source": [
        "def mySum(a,b=0):\n",
        "  c=a+b\n",
        "  print(f'함수 잘 작동 중? {c}')\n",
        "\n",
        "\n",
        "a=1\n",
        "result=mySum(a)\n",
        "print(result) #return 값이 없기에 none이라는 결과값도 출력된다."
      ],
      "metadata": {
        "colab": {
          "base_uri": "https://localhost:8080/"
        },
        "id": "l0-3V8qK141D",
        "outputId": "685b619e-0bae-4328-8ead-1c20b782cb02"
      },
      "execution_count": 18,
      "outputs": [
        {
          "output_type": "stream",
          "name": "stdout",
          "text": [
            "함수 잘 작동 중? 1\n",
            "None\n"
          ]
        }
      ]
    },
    {
      "cell_type": "code",
      "source": [
        "a=5\n",
        "\n",
        "def func1():\n",
        "  a=1\n",
        "  print(f'func1 지역 변수 a={a}')\n",
        "  #==> 지역변수는 함수 내에서만 작용되는 변수이다. 함수가 끝나면 지역변수는 사라진다.\n",
        "\n",
        "\n",
        "func1()\n",
        "print(f'전역 변수 a={a}')\n",
        "\n",
        "print(a) #==> 전역변수인 5가 출력된다"
      ],
      "metadata": {
        "colab": {
          "base_uri": "https://localhost:8080/"
        },
        "id": "QgzMIdec24_z",
        "outputId": "f47d2158-d257-4f62-810b-f753f6708d88"
      },
      "execution_count": 19,
      "outputs": [
        {
          "output_type": "stream",
          "name": "stdout",
          "text": [
            "func1 지역 변수 a=1\n",
            "전역 변수 a=5\n",
            "5\n"
          ]
        }
      ]
    },
    {
      "cell_type": "code",
      "source": [
        "a=5 # ==>전역변수이다.\n",
        "\n",
        "def func1():\n",
        "  a=1\n",
        "  print(f'func1 지역 변수 a={a}')\n",
        "\n",
        "def func2():\n",
        "  a=4\n",
        "  print(f'func2 지역 변수 a={a}')\n",
        "\n",
        "def func3():\n",
        "  print(f'func3 전역 변수 a={a}')\n",
        "\n",
        "def func4():\n",
        "  global a\n",
        "  # ==>global이라는 메서드를 사용해서 함수내에 사용되는 변수를 전역변수로 지정해줬다.\n",
        "  a=500\n",
        "  print(f'fun43 전역 변수 a={a}')\n",
        "\n",
        "func1()\n",
        "func2()\n",
        "func3()\n",
        "func4()\n",
        "\n",
        "print(a)\n",
        "# ==> func4에 함수내에서 global 메서드를 써서 a를 전역변수로 지정해줬기에 a=500이 나온다.\n",
        "func3() # ==>전역변수의 func4에서의 global에 의한 전역변수 변경으로 500이 나오게 된다."
      ],
      "metadata": {
        "colab": {
          "base_uri": "https://localhost:8080/"
        },
        "id": "6ggfBFTm4Znh",
        "outputId": "82a54a05-568b-49dd-de47-3a87ae9d7295"
      },
      "execution_count": 30,
      "outputs": [
        {
          "output_type": "stream",
          "name": "stdout",
          "text": [
            "func1 지역 변수 a=1\n",
            "func2 지역 변수 a=4\n",
            "func3 전역 변수 a=5\n",
            "fun43 전역 변수 a=500\n",
            "500\n",
            "func3 전역 변수 a=500\n"
          ]
        }
      ]
    },
    {
      "cell_type": "code",
      "source": [],
      "metadata": {
        "id": "9Vukm17X4fwv"
      },
      "execution_count": null,
      "outputs": []
    },
    {
      "cell_type": "markdown",
      "source": [
        "### 람다 함수\n",
        "- def 함수 같은 경우에는 복잡한 함수 로직을 만들 때 주로 사용\n",
        "- 단순 기능을 수행 할 때, lambda함수\n",
        "  +함수를 한줄로 처리"
      ],
      "metadata": {
        "id": "N55WepGM61-a"
      }
    },
    {
      "cell_type": "code",
      "source": [
        "(lambda x : x**2)(3)"
      ],
      "metadata": {
        "colab": {
          "base_uri": "https://localhost:8080/"
        },
        "id": "JIucL99b7G-h",
        "outputId": "7461ec4b-f128-400a-f343-21451e9dd7c6"
      },
      "execution_count": 32,
      "outputs": [
        {
          "output_type": "execute_result",
          "data": {
            "text/plain": [
              "9"
            ]
          },
          "metadata": {},
          "execution_count": 32
        }
      ]
    },
    {
      "cell_type": "code",
      "source": [
        "(lambda 인자(=매개변수) : 인자를 활용한 코드)(원하는 인자 입력)"
      ],
      "metadata": {
        "id": "Edy22uFP7dic"
      },
      "execution_count": null,
      "outputs": []
    },
    {
      "cell_type": "code",
      "source": [
        "mySquare = lambda x : x**2\n",
        "mySquare(3)"
      ],
      "metadata": {
        "colab": {
          "base_uri": "https://localhost:8080/"
        },
        "id": "N5UW0a1q8S0X",
        "outputId": "b97980ec-b865-42c4-d51f-d38e903b8b9d"
      },
      "execution_count": 33,
      "outputs": [
        {
          "output_type": "execute_result",
          "data": {
            "text/plain": [
              "9"
            ]
          },
          "metadata": {},
          "execution_count": 33
        }
      ]
    }
  ]
}