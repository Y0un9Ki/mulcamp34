{
  "nbformat": 4,
  "nbformat_minor": 0,
  "metadata": {
    "colab": {
      "provenance": [],
      "mount_file_id": "1Vgq9okcyMD5DKxbjjtth-JlnR3ACG-dL",
      "authorship_tag": "ABX9TyObeisjEF4RoZDvVBtGQ1XQ",
      "include_colab_link": true
    },
    "kernelspec": {
      "name": "python3",
      "display_name": "Python 3"
    },
    "language_info": {
      "name": "python"
    }
  },
  "cells": [
    {
      "cell_type": "markdown",
      "metadata": {
        "id": "view-in-github",
        "colab_type": "text"
      },
      "source": [
        "<a href=\"https://colab.research.google.com/github/Y0un9Ki/mulcamp34/blob/main/%EA%B8%B0%EC%B4%88%EB%AC%B8%EB%B2%95_231227.ipynb\" target=\"_parent\"><img src=\"https://colab.research.google.com/assets/colab-badge.svg\" alt=\"Open In Colab\"/></a>"
      ]
    },
    {
      "cell_type": "code",
      "execution_count": null,
      "metadata": {
        "id": "xFIlw1hqrRUl"
      },
      "outputs": [],
      "source": []
    },
    {
      "cell_type": "markdown",
      "source": [
        "##Chaper3. 사칙연산"
      ],
      "metadata": {
        "id": "pcspwXgasfsC"
      }
    },
    {
      "cell_type": "code",
      "source": [
        "2**5"
      ],
      "metadata": {
        "colab": {
          "base_uri": "https://localhost:8080/"
        },
        "id": "NXQjazcKsrd2",
        "outputId": "559258fa-bf83-4c3f-c3f4-ddc4fe329c95"
      },
      "execution_count": 1,
      "outputs": [
        {
          "output_type": "execute_result",
          "data": {
            "text/plain": [
              "32"
            ]
          },
          "metadata": {},
          "execution_count": 1
        }
      ]
    },
    {
      "cell_type": "markdown",
      "source": [
        "#chapter4. 변수와 자료형\n",
        "- 변수명 짓기 규칙\n",
        "- snake, camel 의 형태로 짓는다."
      ],
      "metadata": {
        "id": "qnPhK9VRjftr"
      }
    },
    {
      "cell_type": "code",
      "source": [
        "#snake 파이썬에서 변수명을 짓는 관례\n",
        "num_a=100\n",
        "num_b=110\n",
        "\n",
        "#camel 자바스크립트 또는 자바에서 변수명을 지을때 쓰는 관례(띄어쓰기가 들어가야 하는 경우에 띄어쓰기를 하지않고 대문자로 써준다.)\n",
        "myStudent=['오규','골','긔']\n",
        "#-변수명을 지을때 주의해야할 점-\n",
        "# 변수명애는 숫자가 들어오면 안된다.\n",
        "# 내장함수명을 변수명으로 만들면 안된다. (금지!!!)"
      ],
      "metadata": {
        "id": "kybz2024hCGG"
      },
      "execution_count": 15,
      "outputs": []
    },
    {
      "cell_type": "code",
      "source": [
        "num1=input(\"숫자를 입력해주세요!\")\n",
        "num2=input(\"숫자를 입력해주세요!\")\n",
        "\n",
        "print(int(num1)+int(num2))"
      ],
      "metadata": {
        "colab": {
          "base_uri": "https://localhost:8080/"
        },
        "id": "RWCIcnThiFRd",
        "outputId": "a1673626-35a2-4051-c272-77c4ad7a2bc3"
      },
      "execution_count": 2,
      "outputs": [
        {
          "output_type": "stream",
          "name": "stdout",
          "text": [
            "숫자를 입력해주세요!20\n",
            "숫자를 입력해주세요!20\n",
            "40\n"
          ]
        }
      ]
    },
    {
      "cell_type": "code",
      "source": [
        "greeting='Hello. Python'\n",
        "greeting[7]"
      ],
      "metadata": {
        "colab": {
          "base_uri": "https://localhost:8080/",
          "height": 35
        },
        "id": "q1MLt8R5sGqP",
        "outputId": "b8882bc3-b613-421a-845a-044150e7ae81"
      },
      "execution_count": 4,
      "outputs": [
        {
          "output_type": "execute_result",
          "data": {
            "text/plain": [
              "'P'"
            ],
            "application/vnd.google.colaboratory.intrinsic+json": {
              "type": "string"
            }
          },
          "metadata": {},
          "execution_count": 4
        }
      ]
    },
    {
      "cell_type": "code",
      "source": [
        "mixed = [0, 2, 3.14, 'python', True, 'myFriends2']\n",
        "print(mixed[-1][-1])"
      ],
      "metadata": {
        "colab": {
          "base_uri": "https://localhost:8080/"
        },
        "id": "hl_ZvBtJF8Lo",
        "outputId": "08a2ae82-9f10-4bc0-f153-a0f3e89a9da5"
      },
      "execution_count": 7,
      "outputs": [
        {
          "output_type": "stream",
          "name": "stdout",
          "text": [
            "2\n"
          ]
        }
      ]
    },
    {
      "cell_type": "code",
      "source": [
        "list_data=[1,2,3,4,5,6,7,8,9]\n",
        "print(list_data[::-1])  #list에 요소들을 거꾸로 가지고 오는 인덱싱 방법이다. ==> [::-1]"
      ],
      "metadata": {
        "colab": {
          "base_uri": "https://localhost:8080/"
        },
        "id": "8ZOdZMvzI8LZ",
        "outputId": "eb9ed75e-1ebb-4c32-8d46-fe078d960fa9"
      },
      "execution_count": 8,
      "outputs": [
        {
          "output_type": "stream",
          "name": "stdout",
          "text": [
            "[9, 8, 7, 6, 5, 4, 3, 2, 1]\n"
          ]
        }
      ]
    }
  ]
}